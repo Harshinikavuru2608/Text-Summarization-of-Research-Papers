{
  "cells": [
    {
      "cell_type": "code",
      "execution_count": 1,
      "metadata": {
        "colab": {
          "base_uri": "https://localhost:8080/"
        },
        "id": "c7hxgOLDQ_D_",
        "outputId": "08468766-7de1-4b1d-8e14-6ea1dafcd7cb"
      },
      "outputs": [
        {
          "name": "stdout",
          "output_type": "stream",
          "text": [
            "Mounted at /content/drive\n"
          ]
        }
      ],
      "source": [
        "from google.colab import drive\n",
        "drive.mount('/content/drive', force_remount=True)"
      ]
    },
    {
      "cell_type": "code",
      "execution_count": 2,
      "metadata": {
        "colab": {
          "base_uri": "https://localhost:8080/"
        },
        "id": "BirT2ViwSlr1",
        "outputId": "4f5ac281-57ad-4d4d-ae1a-50f6a931f077"
      },
      "outputs": [
        {
          "name": "stderr",
          "output_type": "stream",
          "text": [
            "[nltk_data] Downloading package stopwords to /root/nltk_data...\n",
            "[nltk_data]   Unzipping corpora/stopwords.zip.\n"
          ]
        }
      ],
      "source": [
        "import numpy as np\n",
        "import pandas as pd\n",
        "import re\n",
        "import glob\n",
        "from bs4 import BeautifulSoup\n",
        "from keras.preprocessing.text import Tokenizer\n",
        "from keras.preprocessing.sequence import pad_sequences\n",
        "from nltk.corpus import stopwords\n",
        "from tensorflow.keras.layers import Input, LSTM, Embedding, Dense, Concatenate, TimeDistributed, Bidirectional\n",
        "from tensorflow.keras.models import Model\n",
        "from tensorflow.keras.callbacks import EarlyStopping\n",
        "from tensorflow.keras.models import load_model\n",
        "import keras\n",
        "import warnings\n",
        "import nltk\n",
        "nltk.download('stopwords')\n",
        "pd.set_option(\"display.max_colwidth\", 200)\n",
        "warnings.filterwarnings(\"ignore\")"
      ]
    },
    {
      "cell_type": "code",
      "execution_count": 3,
      "metadata": {
        "id": "BSKGi2lKnA0Z"
      },
      "outputs": [],
      "source": [
        "import pandas"
      ]
    },
    {
      "cell_type": "code",
      "execution_count": 4,
      "metadata": {
        "id": "0MCtrUY4S2MF"
      },
      "outputs": [],
      "source": [
        "from tqdm import tqdm\n",
        "tqdm.pandas()"
      ]
    },
    {
      "cell_type": "code",
      "execution_count": 5,
      "metadata": {
        "id": "_eIs7OkcpmWi"
      },
      "outputs": [],
      "source": [
        "data = pd.read_pickle(\"/content/drive/My Drive/papers.pkl\")"
      ]
    },
    {
      "cell_type": "code",
      "execution_count": 6,
      "metadata": {
        "colab": {
          "base_uri": "https://localhost:8080/"
        },
        "id": "02pipr2QrtEi",
        "outputId": "2dc38281-f99b-4925-c836-8a7fbf15d423"
      },
      "outputs": [
        {
          "data": {
            "text/plain": [
              "['deterministic approaches simultaneously solve different interrelated optimisation problems lead general class nonlinear complementarity problem ncp. differentiability convexity requirements problems sophisticated algorithms introduced literature. paper develops evolutionary algorithm solve ncps. proposed approach parallel search multiple populations representing different agents evolve simultaneously whilst contact other. context agent autonomously solves optimisation programme sharing decisions neighbouring agents affects actions. framework applied environmental aerospace application obtained results compared found literature. convergence scalability approach tested search algorithm performance analysed. results encourage application evolutionary based algorithm complementarity problems future work investigate development performance improvements. study class problems solutions interrelated optimisation problems simultaneously required. context agent solves optimisation problem seeks optimal strategies interacting others. agents problem formed find best response decision interacting agents. precisely given function representing agents find simultaneously solving following optimisation problems maximise subject agent controls vector optimise objective function subject constraints set containing interrelation explained objective function constraints depend agents decisions explains solution agents problem affects others. representation model agents personal interests. given aggregated optimisation framework seeks collective optimality necessarily comply agents interest solve aforementioned problem deterministic approaches simultaneously solve problems lead system nonlinear equations formed agents karushkuhntucker kkt formulation known conditions kkt satisfies necessary sufficient condition optimality problem employing kkt depends properties function smooth continuous function. deterministic techniques generally exercise pivoting algorithm interior point based approach generalised newton method find feasible solution e.g. look 23. complementarity conditions introduced kkt provide insight modelling techniques leading general class nonlinear complementarity problems ncp economics traffic modelling robotics fluid dynamics energy planning nondifferentiability nonconvexity function deterministic approaches efficient. potential multimodality requires good starting point ensure convergence. avoid issues application global gradientfree approaches encouraged solve resulting ncps. example works decomposition based method coupled genetic algorithm orthogonal genetic algorithm successive reformulated optimisation problem ncp constraint satisfaction evolutionary based approach nikaido isoda function mapping 11. general agent based approaches presented literature solve complex interrelated optimisation problems. ouelhadj petrovic report application agent based modelling complex scheduling dynamic environments. cowling al. lau al. simulate supply chain system multiple independent autonomous agents contractor selection. sauvageau frayret use agent approaches represent paper pulp recycling supply chain. transportation scheduling planning agent based approaches successfully employed optimisation train coupling systems 1617 routing decision making based local information dynamic environment solving dynamic scheduling problem distributed project selfinterested participants dealing energy systems planning forecasting land usage environmental planning 21. combination operational research agent modelling implemented developing decision support system supply chain coordination context 2224. paper present alternative approach solve problems directly employing kkt ncp formulations. employ evolutionary algorithm solves interrelated optimisation problems parallel. section explains sharing strategies section develops algorithm gives demonstration illustrative example. section applies proposed approach problems environmental water pollution fluid dynamics discusses results. scalability method higher dimension search algorithm performance investigated section section concludes paper extra discussion future work. multiple agents communicate decision problems interrelated. fact agent deals problem reacts decisions environment agent finds best response decisions others. given propose solve interrelated agent problems idea parallel genetic algorithm 25. parallel combines hardware speed parallel processors software speed intelligent parallel searching 26. idea parallel divide problems search population multiple processors typically performance reasons determines multiple subpopulations information exchange 2728. implementation promises substantial performance achievement leads extensive attempts design improve competitive distributed hardware effective population communication migration fitness evaluations speeding 2931. algorithms literature run identical parallel run processor differ linkage populations information sharing e.g. look 3234. paper instead dividing population multiple processors borrow idea dedicate agent population solve problem interacting others. formally define agent problem let vector containing decision variables agent problem let vector containing decision variables agents involved problem excluding agent define problem formed use parallel idea coevolution solve extension subproblem objective function. interconnection agents problems solve problem whilst communicates problems sharing information. concept gain faster convergence pareto solution multiobjective optimisation problem. formally search algorithm described different search trajectories performing parallel following linkage shows interconnection agents. acts synchronisation linkage agent optimise problem given decisions interacting agents neighbourhood remain fixed shown describes value updated search problem generation linking decisions fact problem reaction agent agents decisions given problem agent knows problem components communicating neighbouring agents local activity exploring search space. following alba troya classification linkage approach resembles fine grained topology parallel gas agent communicates neighbours solving problem. details algorithm solve agents problems followed illustrative example. algorithm shows step step procedure proposed method agent involves maximisation problem. beginning number agents population size maximum number generation maxgen convergence tolerance specified. agent devoted search trajectory formed population size line pop matrix populated randomly. agent neighbours set agents line individual population agent composed decision variables agent decision variables neighbours fixed size words equals number neighbouring agents affecting decision agent plus one. agents determine best response decisions neighbours individuals population undergoes reproduction generation parallel searches line pop sorted increasing order based objective value pop best individual pop determined line 12. end generation neighbouring agents neighbours share best individuals form updated population generation pop migrates population neighbours remain fixed generation line 13. makes agent end generation informed decisions neighbouring agents involved problem. example population sharing scheme illustrated fig. agents dealing problem optimising different search trajectories algorithm allows agent search best response neighbours decisions relying locally available information received procedure leads evolution separate populations successive generations. algorithm parallel search algorithm. stopping criterion follow work sinha al. algorithm uses variancebased convergence indicator defined denotes variances agents variables current original population respectively. value restricted convergence expected value converges zero. algorithm terminates algorithm continues maxgen reached. track mean population agents variables generation analyse convergence. constraint domination technique adopted constraint handling 39. procedure ranks feasible individuals based objective values infeasible individuals ranked based extent constraint violation. agent determines best decision response decisions neighbours applying search population line paper differential evolution adopted reproduction provides promising results numerical test problems 41. search algorithm exploited. corresponding individuals randomly chosen population pop new vector created adding weighted difference given mutation rate. accepted new vector following satisfied rand probability crossover rand pseudo random number vector violates bound constraints gets value half way bound violated. test algorithms application explain implementation simple agents problem follows. illustrate algorithm procedure consider agents competing producing product. benefit agent given represents unit production cost incurred agent benefit agent depends production other. interconnection set 105 maxgen 100. seen fig. initialising population generation best individual pop represented pop 22.938 fixed pop generation pop 50.259 fixed pop shown grey black colours respectively. population undergoes reproduction stage second generation pop 16.583 fixed pop pop fixed pop generation. algorithm runs best population fixed iterative basis. simulates procedure agent reacting best action competitor. competition generation designs learning environment continues till agents compromise solution. fig. shows individuals population simplicity presentation. algorithm converges generations 106. section investigate algorithm performance multidisciplinary problems. solve problems related environmental water pollution fluid dynamics. problem involves agents competing water abstraction second approximates pattern velocity profile aerofoil. problem taken deterministic algorithm devised obtaining solution. second problem employs finite difference method formulating agent problems best knowledge solved multiagent perspective literature. problems population size agent maximum number generation maxgen 100 following price al. values equal 0.7 0.5 respectively. convergence assumed tolerance 105. problem firms located river abstracting water produce paper pulp chosen level paper production firms produce pollutant emission coefficient firm table pollution expelled river reaches monitoring stations located river local authority sets maximum pollutant concentration levels following constraints location defined decayandtransportation coefficient firm location table firm engaged net profit maximisation equivalent following optimisation problems firm max subject revenue cost functions firm respectively economic constants 3.0 0.01. cost function coefficients given table 100 study. objective functions represents gross benefit firm participating paper pulp production. complementarity condition essentially state equilibrium solution marginal revenue equal marginal cost firm abstracting positive quantity water marginal revenue exceed marginal cost firms prefer business. function decision firm depends pollution constraints handled domination technique feasible solutions preferred feasible solutions higher gross benefit preferred infeasible solutions violates pollutant constraint favoured. parallel search constructed agents results application shown table solution consistent obtained deterministic approach reported krawczyk 42. convergence rate algorithm provide mean water abstraction agent fig. value algorithm generation. figures illustrate firms competition water abstractions population evolution. initial generations firm gain leads loss oscillating behaviour reach equilibrium generation. convergence fast seen figure generation firms compromise solution algorithm tunes solution afterwards. approach employed bigger problems large number firms compete water abstraction different institutional quality constraints. demonstrate algorithm alter production cost nondifferentiable nonconvex fixedcost function solve problem constraint. introduction function reduces applicability deterministic approaches convexity differentiability assumptions employing proposed method algorithm converges 75.7 71.7 75.7 generations. problem study behaviour algorithm applied fluid dynamic application. solve laminar flow leading edge symmetrical aerofoil naca 0015 zero angle attack chord length 32cm max22.4cm. characteristics aerofoil documented abbott doenhoff exhibits wellbehaved laminar flow leading edge low angles attack. consider flow twodimensional incompressible fluid defining constant density fluid. near low angle attack results zero lift steady flow past aerofoil pattern upper lower surfaces narrow boundary layer region close surface flow retarded friction. resultant simplified navierstokes equations steady twodimensional incompressible flow found 44. practice applying potential flow theory find velocity profiles outer flow field aerofoil 44. subject current study multiagent perspective approximate pattern velocity profiles passing leading edge aerofoil ignoring boundary layer effect. impermeability condition plate surface velocity surface zero gradient velocity equals zero ydirection. conditions rise following complementarity problem velocity profile leading edge naca 0015 aerofoil. obtain pattern velocity profile proposed parallel search approximate different locations surface employing finite difference method mesh step size gradient function approximation leads following set equations location number nodes approximate coordinates node considered agent communicating value neighbouring node problem velocity profile approximation multiagent system following problem agent min subject approaches minimum value zero complementarity condition holds velocity surface zero gradient velocity equals zero ydirection. employ parallel search number nodes approximate agent problems solved different locations leading edge surface shown fig. solve problem consider nodes approximation set account regular mesh node communicating neighbours. convergence analysed looking fig. fig. shows pattern velocity profiles leading edge different locations. distance aerofoil average velocity aerofoil beneath it. expect similar flow profile sides aerofoil. variancebased metric fig. implies pretty fast convergence iterations explaining black circle point location shown fig. communicates position neighbours convergence. opposed population based methods number population grows dimension problem increases ability scale performance challenge deterministic algorithms gradient search approaches employed. test scalability proposed population based algorithm higher dimension problems use velocity profile approximation problem solve nodes agents. account variability run solve problem times results presented averaged runs. report average number generations reach convergence tolerance 105 average time taken convergence. scalability fig. suggests mild exponential trend computational burden number nodes agents increases. 0.5 seconds takes average solve problem average number generations average running time reaches seconds number 104 generations. fig. presents situation illustrated fig. 4a. fig. indicates accuracy approximation increased compared fig. leads higher computational time convergence fig. 5d. report performance proposed approach velocity profile approximation problem search algorithm replaced simple genetic algorithm genetic algorithm elitism gae covariance matrix adaptation evolution strategy cmaes 46. gae use roulette wheel selection mutation rate 0.2 population size 10. generation cmaes new candidate solutions sampled population size according multivariate normal distribution weighted combination best new candidates update distribution parameters. reader referred provided references details algorithms. note simple gae cmaes operators agent use solve problem result communicating neighbouring agents linkage let run algorithm generations. use value performance metric study convergence characteristics. fig. shows convergence behaviour algorithms. seen search operators close solution. cmaes converged runs gae requires runs converge. cmaes smoother convergence behaviour gae quick drop sum average population agents variables generation indication convergence fast. paper developed evolutionary approach solve optimisation problems simultaneously. type representation model engineering economic problems. problem simple solving system equations hard nonlinear combinatorial problem depending properties involved functions. built parallel genetic algorithm separate populations different agents simultaneously evolved dealing optimisation problem. agents partial information model generation synchronise best fitted individual population neighbours. keeps agent aware agents decisions contact system. procedure guides search compromised solution. algorithm illustrated simple twoagent problem performance tested multidisciplinary problems environmental water pollution fluid dynamics results demonstrate applicability proposed technique low high dimension problems. investigated performance approach different population based methods subproblem search algorithm. study suggests different algorithms exploited agent solve problem. study agents consider interest solving local problem interacting other. applicability technique elaborated agents cooperates solve global problem. addition parallel nature algorithm motivate research designing distributed architecture implementation algorithm multiple cores threads synchronisations. framework extended consider different problems water market different users trading water rights 474953 resource constrained environment plasma actuator study velocity profiles induced dielectric barrier discharge plasma actuator necessary represented 505254. acknowledgements anonymous reviewers provided comments suggestions strongly improved content presentation paper. errors omissions authors alone. references']"
            ]
          },
          "execution_count": 6,
          "metadata": {},
          "output_type": "execute_result"
        }
      ],
      "source": [
        "from spacy.lang.en.stop_words import STOP_WORDS\n",
        "\n",
        "def clean_body(text):\n",
        "    newText = text.lower()\n",
        "    newText = re.sub('[^\\w\\s\\d\\.]','',newText)\n",
        "    newText = ' '.join(newText.split())\n",
        "    tokens = [w for w in newText.split() if not w in STOP_WORDS]\n",
        "    long_words=[]\n",
        "    for i in tokens:\n",
        "        if len(i)>=3:\n",
        "            long_words.append(i)\n",
        "    return (\" \".join(long_words)).strip()\n",
        "\n",
        "cleaned_body = []\n",
        "for t in data['body']:\n",
        "    cleaned_body.append(clean_body(t))\n",
        "\n",
        "cleaned_body[:1]"
      ]
    },
    {
      "cell_type": "code",
      "execution_count": 7,
      "metadata": {
        "colab": {
          "base_uri": "https://localhost:8080/"
        },
        "id": "Zl4FViEirtPc",
        "outputId": "e12712b6-735f-415e-acbf-b2d15bb95fd6"
      },
      "outputs": [
        {
          "data": {
            "text/plain": [
              "['_START_ we develop an evolutionary approach to solve interrelated optimisation problems. multiple agents autonomously deal with their own problems and react to the others. test problems in water pollution and aerospace modelling demonstrate the algorithm. experiments on scalability and convergence of the algorithm show promising results. _END_',\n",
              " '_START_ the aggregated artificial neural network was used to investigate the simultaneous effects of printing parameters on the compressive strength and porosity of scaffolds. particle swarm optimization algorithm was implemented to obtain the optimum topology of the aann. pareto front optimization was used to determine the optimal setting parameters. the presented results and discussion can give informative information to practitioners who want to design a porous structure and need to know the impact of influential design parameters. _END_',\n",
              " '_START_ a stochastic global optimization framework for open pit mining complexes is proposed. the method simultaneously optimizes production schedules and downstream processes. the modeling is flexible and may be applied to numerous types of mining complexes. three combinations of metaheuristics are tested. results from an example show a substantial economic benefit when using this approach. _END_',\n",
              " '_START_ highdimensional biological data sets are modelled with a regression based fuzzy system. an svr based fuzzy model is proposed to find degree of peptide binding to mhc molecules. svr is enhanced by adding the fuzziness concept. tsk fuzzy system is benefited from svrbased training. the proposed models suggest that the predictive ability and performance are increased. _END_',\n",
              " '_START_ few graph layout methods capture the community structure of small world networks. we present graphtpp an attribute and dimension reduction based layout method. graphtpp is able to separate communities into spatially distinct areas. separation is better than other clustering based layouts. edgegrouping between communities shows the strength of their relationships. _END_']"
            ]
          },
          "execution_count": 7,
          "metadata": {},
          "output_type": "execute_result"
        }
      ],
      "source": [
        "# Preprocessing \"highlight\" text\n",
        "\n",
        "\n",
        "def clean_highlight(text):\n",
        "  newText = text.lower()\n",
        "  newText = re.sub('[^\\w\\s\\d\\.]','',newText)\n",
        "  newText = ' '.join(newText.split())\n",
        "  newText = '_START_ '+ newText + ' _END_'\n",
        "  return newText\n",
        "\n",
        "cleaned_highlight = []\n",
        "for t in data['highlights']:\n",
        "    cleaned_highlight.append(clean_highlight(t))\n",
        "\n",
        "cleaned_highlight[:5]"
      ]
    },
    {
      "cell_type": "code",
      "execution_count": 8,
      "metadata": {
        "id": "jBwzz3TirtZQ"
      },
      "outputs": [],
      "source": [
        "# Storing preprocessed data in the dataframe\n",
        "data['cleaned_highlights'] = cleaned_highlight\n",
        "data['cleaned_body'] = cleaned_body"
      ]
    },
    {
      "cell_type": "code",
      "execution_count": 9,
      "metadata": {
        "id": "mEeeipSCr8Ut"
      },
      "outputs": [],
      "source": [
        "data = data[:5000]"
      ]
    },
    {
      "cell_type": "code",
      "execution_count": 10,
      "metadata": {
        "colab": {
          "base_uri": "https://localhost:8080/"
        },
        "id": "ZRwzGQXzr8bx",
        "outputId": "04dfa6b1-0d62-4e6d-9959-3e524e43139c"
      },
      "outputs": [
        {
          "name": "stdout",
          "output_type": "stream",
          "text": [
            "<class 'pandas.core.frame.DataFrame'>\n",
            "Int64Index: 5000 entries, 27 to 6950\n",
            "Data columns (total 6 columns):\n",
            " #   Column              Non-Null Count  Dtype \n",
            "---  ------              --------------  ----- \n",
            " 0   text                5000 non-null   object\n",
            " 1   filenames           5000 non-null   object\n",
            " 2   highlights          5000 non-null   object\n",
            " 3   body                5000 non-null   object\n",
            " 4   cleaned_highlights  5000 non-null   object\n",
            " 5   cleaned_body        5000 non-null   object\n",
            "dtypes: object(6)\n",
            "memory usage: 273.4+ KB\n"
          ]
        }
      ],
      "source": [
        "data.info()"
      ]
    },
    {
      "cell_type": "code",
      "execution_count": 11,
      "metadata": {
        "colab": {
          "base_uri": "https://localhost:8080/",
          "height": 843
        },
        "id": "4Tod3GWNCIuE",
        "outputId": "9a13f6e5-00d2-4718-dae6-8fc0ea8066cc"
      },
      "outputs": [
        {
          "data": {
            "image/png": "[encoded data removed]",
            "text/plain": [
              "<Figure size 640x480 with 1 Axes>"
            ]
          },
          "metadata": {},
          "output_type": "display_data"
        },
        {
          "data": {
            "image/png": "[encoded data removed]",
            "text/plain": [
              "<Figure size 640x480 with 1 Axes>"
            ]
          },
          "metadata": {},
          "output_type": "display_data"
        }
      ],
      "source": [
        "import matplotlib.pyplot as plt\n",
        "\n",
        "text_word_count = []\n",
        "summary_word_count = []\n",
        "\n",
        "for i in data['cleaned_body']:\n",
        "      text_word_count.append(len(i.split()))\n",
        "\n",
        "for i in data['cleaned_highlights']:\n",
        "      summary_word_count.append(len(i.split()))\n",
        "\n",
        "length_df = pd.DataFrame({'Body':text_word_count, 'Highlights':summary_word_count})\n",
        "\n",
        "length_df['Body'].hist(bins=30)\n",
        "plt.show()\n",
        "\n",
        "length_df['Highlights'].hist(bins=30)\n",
        "plt.show()"
      ]
    },
    {
      "cell_type": "code",
      "execution_count": 12,
      "metadata": {
        "id": "gYkILCgEsELK"
      },
      "outputs": [],
      "source": [
        "max_len_body = 1000\n",
        "max_len_highlight = 50"
      ]
    },
    {
      "cell_type": "code",
      "execution_count": 13,
      "metadata": {
        "colab": {
          "base_uri": "https://localhost:8080/"
        },
        "id": "KAMdMOrosGoM",
        "outputId": "398d8f76-673c-4519-b46a-db964f79aaf5"
      },
      "outputs": [
        {
          "name": "stderr",
          "output_type": "stream",
          "text": [
            "100%|██████████████████████████████████████████████████████| 5000/5000 [00:00<00:00, 181478.90it/s]\n",
            "100%|██████████████████████████████████████████████████████| 5000/5000 [00:00<00:00, 291834.51it/s]\n"
          ]
        }
      ],
      "source": [
        "data.cleaned_body = data.cleaned_body.progress_apply(lambda x: str(x))\n",
        "data.cleaned_highlights = data.cleaned_highlights.progress_apply(lambda x: str(x))"
      ]
    },
    {
      "cell_type": "code",
      "execution_count": 14,
      "metadata": {
        "id": "jDRRIlMSsBYg"
      },
      "outputs": [],
      "source": [
        "from sklearn.model_selection import train_test_split\n",
        "x_train,x_test,y_train,y_test=train_test_split(data['cleaned_body'],data['cleaned_highlights'],test_size=0.2,random_state=0,shuffle=True)"
      ]
    },
    {
      "cell_type": "code",
      "execution_count": 15,
      "metadata": {
        "colab": {
          "base_uri": "https://localhost:8080/"
        },
        "id": "TmJ57Pw4sLs9",
        "outputId": "2dba2474-3639-4a05-9de5-a10d420e3ae1"
      },
      "outputs": [
        {
          "name": "stdout",
          "output_type": "stream",
          "text": [
            "[[  487   211    66    89    18   170  5078  2340  2074  2009   439   594\n",
            "     25    74  6327   782   201   172   439  1315    37  5374   239  1488\n",
            "     27   435  6327 33570 36691  2327   615  1624   681    28 33570 36691\n",
            "   2562 13285   201  4214    28 13285   201  1331  2249  2584   641  1739\n",
            "    587    16  2074   287  3915  3272   207    28   610  1218  1483  5375\n",
            "     27 13285   201  4214   435   586 24230    27   462  5068   586   274\n",
            "    154   722   435  5068   915   274   154   722   170    91   782   435\n",
            "      7   264  5374    46     8  1528  2268   363  1003   707   239  2425\n",
            "    466   685   205    26    96   120    60   681  3572   201   628    27\n",
            "    151   180    79  2937   197 13285  2758   435    79    56   197 36691\n",
            "     66   783  9317    17  3721  1196   671    27   247  8385   249  6327\n",
            "  13285 33570 36691  9317    17   170  5374  2562   435    24  6327  2074\n",
            "   3966 32223  3448  4601 15641  1339  3199   290  1745  2386  1528    93\n",
            "     55    84   198    29   435    24     3   168  5078  6327  6327 36691\n",
            "   1270  1334     3   170  5374  3966 13285 33570   225   249  1892   198\n",
            "    388   819 13285 33570   243   142  1270 33570   273   198    29  2208\n",
            "   1014  3271   102   142  3272 13285   465  5068  1892  4760   142    16\n",
            "      8  1284   965   115   435   102    30    94  1323  2937   197  6566\n",
            "    234  1815   239   334    28  2762   753  1269     2  5138     8  5807\n",
            "    175   168   197  2268  2327     8   541  1323   160   782   201  1315\n",
            "     37  5078   435 43335  2009   439   154  6327   673   584  1680    18\n",
            "   5078   650     2   153   271    72  3966   201   999  2009   439  1315\n",
            "    886  5374    17  2165 15244  2414   286    27  8386  5078  5078   268\n",
            "    435   490   292    66   789   170  5078  3343   249   673    73   783\n",
            "     84   168   197  3314  2009     3     9  1211  2389   225    27    94\n",
            "    239   753   284  1218  5078    46  1986  5954   168   461  6327   271\n",
            "    726    51  2533  7859   271    32   357  1199   714   271   357   170\n",
            "   5374 13285 33570 36691  7859     9   753   642 13285   201  5267   153\n",
            "    284  3837   782   435     9    24   121    17  1876    27  1285  1526\n",
            "   1063  9885   290    85    21    30  1358   163   586   841    10    96\n",
            "    496    10  2442   186   131   741  3396   211    65    50     4    10\n",
            "   1140  1181    10  2442   335  3396  1022   348   284   147   602   211\n",
            "   1701  3904   423 15064    17  1421   549    20  2937   461   603   264\n",
            "   1029   201  1492     8   681   839  4210   601   435  2009    17   412\n",
            "   1737   549    20   119  2009    17  1421   488  1526   279  5374   308\n",
            "     27  6327  8602   362   435   714  3320    74    27   241   549    20\n",
            "    415     8     8  6567    23   601  1849  2887   210   284   147  4067\n",
            "   1701  1701  1542   594   927   435  3783    17     9   271   357   170\n",
            "   5374    66   266  6327    94   764   284  1218    20  1815     7  1309\n",
            "    109  1072   163   586     2  1872    20   235   549    20   186   131\n",
            "    741  3396   211   281  1029   389   279    50  2316   549    20  1844\n",
            "    608   284   147    21   256   970    21   389   279  2159   609    21\n",
            "   1688   279   163    21  1688  5078   163   586  5374  5068   462   205\n",
            "      7    45  4882     8   163   205 13285   782   201  1331 33570   249\n",
            "  33570  1469   243   142     2   342 13285   142   465  1333  3272  1671\n",
            "      4  1029 33570  1486    74    55   426  3956    20   944  3272    50\n",
            "   4630 36691   362  1331  6327   782   201  1872    20   434   225  1872\n",
            "     20   126  2421   124     5   439  1025   148   502  1872    20   139\n",
            "    688   563   170  5374  3749     5   207   439   867   271   563  3749\n",
            "    119   186   356   970   439   867   271   563   170  5078  1072  1029\n",
            "  13285     1  1331   634   423   249   170  3272   499   153  1218  2074\n",
            "    287    43  3423   465  1629   456 13285   201   594   927    74    55\n",
            "    426  3956   796  1488    64   452   483 33570   201  1486  1528  2268\n",
            "     46   139   707  2349   251    27    90   782   435   462  2223   783\n",
            "    274   154   722  1029   415    27     9    31   639   783  6472    24\n",
            "   3905  5623 12365   466    80    80  1486  1373  4324  1818   102   439\n",
            "   1862   552    61    20 33571 25507   156  5623 20740    79    31   102\n",
            "      5  5632    30    90   154   782   201   201  6327  2648    23   462\n",
            "     77   408  1711  2937   197  5068   201    77  1905  1073  1711   225\n",
            "    548   699   414   428  1073  1711   225   548   414  1978  1118     4\n",
            "    685  1823    99  5298  8526  3462  4260  1647    43  8526  1905  2471\n",
            "    634  1758   149    30   938   435   107    27  2937   197    89   101\n",
            "   3462    10  7453  3497  3110   569   341  1647    43   423   470  1267\n",
            "     10  9511   839     9   435   487   107  1711  2937   197   163   149\n",
            "     90    39   839   435   211     9   949   745   805  1588 15641  1425\n",
            "    284  3837   290  1637    22   634    41   612  1635   782   435  3554\n",
            "   1101  2862     1   149     9   354  2822   909   485   323  2009    37\n",
            "     17  1903   764   284  3837   290  1745  2386  1528    93    55    37\n",
            "    782   435   772   782   435   102  4708  1029  2337  1162  3396   772\n",
            "   2937   197    27   151  1680    27   154   201     9   163  3979  1432\n",
            "   2760   216    87  2378   315  8817 32224   170    66    89    18  1315\n",
            "   5078   708  1580    27   163    68   829  2523    22   435   163   782\n",
            "    435  2009    17  1370   185 13285 33570 36691  3768   412   362    94\n",
            "   5575  6327  6327  3314   185   545    17  3966   258    53   297   395\n",
            "   1787     9   782   435    90    40   746   688   485   323  2009   439\n",
            "  33570    11   148   502 36691   201  3974  1834  3272   337 13285   201\n",
            "    184   287   338   429   459  1309    53   290    85   144   514   279\n",
            "   3214   279 11148    23     5    21  1688 33570  2621  3344    20   251\n",
            "    228   287   207   268 13285   243  2598   207 36691    53   804  1000\n",
            "   1309   435   314  3344    64    33  4002    41  1674  1947   485  1657\n",
            "     17  3628  1029     9 78424    20   274  2401    32  2474  2415  1078\n",
            "    162  1029  1804     1   733  2005  1902  2112  1745  2038    31  1334\n",
            "    586   139  2391  2419  1511   639   301  6619     3  9136    31   498\n",
            "    485  1657  1154   501]]\n"
          ]
        }
      ],
      "source": [
        "# Tokenizing \"body\"\n",
        "x_tok = Tokenizer()\n",
        "x_tok.fit_on_texts(list(x_train))\n",
        "\n",
        "# Converting text to number sequences\n",
        "x_train = x_tok.texts_to_sequences(x_train)\n",
        "x_test = x_tok.texts_to_sequences(x_test)\n",
        "\n",
        "# Padding zero upto maximum length\n",
        "x_train = pad_sequences(x_train,  maxlen=max_len_body, padding='post')\n",
        "x_test = pad_sequences(x_test, maxlen=max_len_body, padding='post')\n",
        "\n",
        "# Total number of words\n",
        "x_vocab_size = len(x_tok.word_index) +1\n",
        "print(x_train[1:2])"
      ]
    },
    {
      "cell_type": "code",
      "execution_count": 16,
      "metadata": {
        "id": "UGbvEqM3sN4z"
      },
      "outputs": [],
      "source": [
        "# Tokenizing \"highlights\"\n",
        "y_tok = Tokenizer()\n",
        "y_tok.fit_on_texts(list(y_train))\n",
        "\n",
        "# Converting text to number sequences\n",
        "y_train = y_tok.texts_to_sequences(y_train)\n",
        "y_test = y_tok.texts_to_sequences(y_test)\n",
        "\n",
        "# Padding zero upto maximum length\n",
        "y_train = pad_sequences(y_train,  maxlen=max_len_highlight, padding='post')\n",
        "y_test = pad_sequences(y_test, maxlen=max_len_highlight, padding='post')\n",
        "\n",
        "# Word count\n",
        "y_vocab_size = len(y_tok.word_index) +1"
      ]
    },
    {
      "cell_type": "code",
      "execution_count": 17,
      "metadata": {
        "id": "68XZ_05RsQKo"
      },
      "outputs": [],
      "source": [
        "import tensorflow as tf\n",
        "import os\n",
        "from tensorflow.python.keras.layers import Layer\n",
        "from tensorflow.python.keras import backend as K"
      ]
    },
    {
      "cell_type": "code",
      "execution_count": 18,
      "metadata": {
        "id": "ByPN43Kn-p9v"
      },
      "outputs": [],
      "source": [
        "from tensorflow.keras.layers import AdditiveAttention"
      ]
    },
    {
      "cell_type": "code",
      "execution_count": 19,
      "metadata": {
        "id": "5VL9nW5usdzC"
      },
      "outputs": [],
      "source": [
        "class AttentionLayer(Layer):\n",
        "    \"\"\"\n",
        "    This class implements Bahdanau attention (https://arxiv.org/pdf/1409.0473.pdf).\n",
        "    There are three sets of weights introduced W_a, U_a, and V_a\n",
        "     \"\"\"\n",
        "\n",
        "    def __init__(self, **kwargs):\n",
        "        super(AttentionLayer, self).__init__(**kwargs)\n",
        "\n",
        "    def build(self, input_shape):\n",
        "        assert isinstance(input_shape, list)\n",
        "        # Create a trainable weight variable for this layer.\n",
        "\n",
        "        self.W_a = self.add_weight(name='W_a',\n",
        "                                   shape=tf.TensorShape((input_shape[0][2], input_shape[0][2])),\n",
        "                                   initializer='uniform',\n",
        "                                   trainable=True)\n",
        "        self.U_a = self.add_weight(name='U_a',\n",
        "                                   shape=tf.TensorShape((input_shape[1][2], input_shape[0][2])),\n",
        "                                   initializer='uniform',\n",
        "                                   trainable=True)\n",
        "        self.V_a = self.add_weight(name='V_a',\n",
        "                                   shape=tf.TensorShape((input_shape[0][2], 1)),\n",
        "                                   initializer='uniform',\n",
        "                                   trainable=True)\n",
        "\n",
        "        super(AttentionLayer, self).build(input_shape)  # Be sure to call this at the end\n",
        "\n",
        "    def call(self, inputs, verbose=False):\n",
        "        \"\"\"\n",
        "        inputs: [encoder_output_sequence, decoder_output_sequence]\n",
        "        \"\"\"\n",
        "        assert type(inputs) == list\n",
        "        encoder_out_seq, decoder_out_seq = inputs\n",
        "        if verbose:\n",
        "            print('encoder_out_seq>', encoder_out_seq.shape)\n",
        "            print('decoder_out_seq>', decoder_out_seq.shape)\n",
        "\n",
        "        def energy_step(inputs, states):\n",
        "            \"\"\" Step function for computing energy for a single decoder state \"\"\"\n",
        "\n",
        "            assert_msg = \"States must be a list. However states {} is of type {}\".format(states, type(states))\n",
        "            assert isinstance(states, list) or isinstance(states, tuple), assert_msg\n",
        "\n",
        "            \"\"\" Some parameters required for shaping tensors\"\"\"\n",
        "            en_seq_len, en_hidden = encoder_out_seq.shape[1], encoder_out_seq.shape[2]\n",
        "            de_hidden = inputs.shape[-1]\n",
        "\n",
        "            \"\"\" Computing S.Wa where S=[s0, s1, ..., si]\"\"\"\n",
        "            # <= batch_size*en_seq_len, latent_dim\n",
        "            reshaped_enc_outputs = K.reshape(encoder_out_seq, (-1, en_hidden))\n",
        "                        # <= batch_size*en_seq_len, latent_dim\n",
        "            W_a_dot_s = K.reshape(K.dot(reshaped_enc_outputs, self.W_a), (-1, en_seq_len, en_hidden))\n",
        "            if verbose:\n",
        "                print('wa.s>',W_a_dot_s.shape)\n",
        "\n",
        "            \"\"\" Computing hj.Ua \"\"\"\n",
        "            U_a_dot_h = K.expand_dims(K.dot(inputs, self.U_a), 1)  # <= batch_size, 1, latent_dim\n",
        "            if verbose:\n",
        "                print('Ua.h>',U_a_dot_h.shape)\n",
        "\n",
        "            \"\"\" tanh(S.Wa + hj.Ua) \"\"\"\n",
        "            # <= batch_size*en_seq_len, latent_dim\n",
        "            reshaped_Ws_plus_Uh = K.tanh(K.reshape(W_a_dot_s + U_a_dot_h, (-1, en_hidden)))\n",
        "            if verbose:\n",
        "                print('Ws+Uh>', reshaped_Ws_plus_Uh.shape)\n",
        "\n",
        "            \"\"\" softmax(va.tanh(S.Wa + hj.Ua)) \"\"\"\n",
        "            # <= batch_size, en_seq_len\n",
        "            e_i = K.reshape(K.dot(reshaped_Ws_plus_Uh, self.V_a), (-1, en_seq_len))\n",
        "            # <= batch_size, en_seq_len\n",
        "            e_i = K.softmax(e_i)\n",
        "\n",
        "            if verbose:\n",
        "                print('ei>', e_i.shape)\n",
        "\n",
        "            return e_i, [e_i]\n",
        "\n",
        "        def context_step(inputs, states):\n",
        "            \"\"\" Step function for computing ci using ei \"\"\"\n",
        "            # <= batch_size, hidden_size\n",
        "            c_i = K.sum(encoder_out_seq * K.expand_dims(inputs, -1), axis=1)\n",
        "            if verbose:\n",
        "                print('ci>', c_i.shape)\n",
        "            return c_i, [c_i]\n",
        "\n",
        "        def create_inital_state(inputs, hidden_size):\n",
        "            # We are not using initial states, but need to pass something to K.rnn funciton\n",
        "            fake_state = K.zeros_like(inputs)  # <= (batch_size, enc_seq_len, latent_dim\n",
        "            fake_state = K.sum(fake_state, axis=[1, 2])  # <= (batch_size)\n",
        "            fake_state = K.expand_dims(fake_state)  # <= (batch_size, 1)\n",
        "            fake_state = K.tile(fake_state, [1, hidden_size])  # <= (batch_size, latent_dim\n",
        "            return fake_state\n",
        "\n",
        "        fake_state_c = create_inital_state(encoder_out_seq, encoder_out_seq.shape[-1])\n",
        "        fake_state_e = create_inital_state(encoder_out_seq, encoder_out_seq.shape[1])  # <= (batch_size, enc_seq_len, latent_dim\n",
        "\n",
        "        \"\"\" Computing energy outputs \"\"\"\n",
        "        # e_outputs => (batch_size, de_seq_len, en_seq_len)\n",
        "        last_out, e_outputs, _ = K.rnn(\n",
        "            energy_step, decoder_out_seq, [fake_state_e],\n",
        "        )\n",
        "\n",
        "        \"\"\" Computing context vectors \"\"\"\n",
        "        last_out, c_outputs, _ = K.rnn(\n",
        "            context_step, e_outputs, [fake_state_c],\n",
        "        )\n",
        "\n",
        "        return c_outputs, e_outputs\n",
        "\n",
        "    def compute_output_shape(self, input_shape):\n",
        "        \"\"\" Outputs produced by the layer \"\"\"\n",
        "        return [\n",
        "            tf.TensorShape((input_shape[1][0], input_shape[1][1], input_shape[1][2])),\n",
        "            tf.TensorShape((input_shape[1][0], input_shape[1][1], input_shape[0][1]))\n",
        "        ]"
      ]
    },
    {
      "cell_type": "code",
      "execution_count": 20,
      "metadata": {
        "colab": {
          "base_uri": "https://localhost:8080/"
        },
        "id": "eobxsqHdsvuj",
        "outputId": "4d88e019-a32c-4eee-a14b-6ccd4796fde2"
      },
      "outputs": [
        {
          "name": "stdout",
          "output_type": "stream",
          "text": [
            "Model: \"model\"\n",
            "__________________________________________________________________________________________________\n",
            " Layer (type)                Output Shape                 Param #   Connected to                  \n",
            "==================================================================================================\n",
            " input_1 (InputLayer)        [(None, 1000)]               0         []                            \n",
            "                                                                                                  \n",
            " embedding (Embedding)       (None, 1000, 50)             1273040   ['input_1[0][0]']             \n",
            "                                                          0                                       \n",
            "                                                                                                  \n",
            " lstm (LSTM)                 [(None, 1000, 50),           20200     ['embedding[0][0]']           \n",
            "                              (None, 50),                                                         \n",
            "                              (None, 50)]                                                         \n",
            "                                                                                                  \n",
            " input_2 (InputLayer)        [(None, None)]               0         []                            \n",
            "                                                                                                  \n",
            " lstm_1 (LSTM)               [(None, 1000, 50),           20200     ['lstm[0][0]']                \n",
            "                              (None, 50),                                                         \n",
            "                              (None, 50)]                                                         \n",
            "                                                                                                  \n",
            " embedding_1 (Embedding)     (None, None, 50)             819550    ['input_2[0][0]']             \n",
            "                                                                                                  \n",
            " lstm_2 (LSTM)               [(None, 1000, 50),           20200     ['lstm_1[0][0]']              \n",
            "                              (None, 50),                                                         \n",
            "                              (None, 50)]                                                         \n",
            "                                                                                                  \n",
            " lstm_3 (LSTM)               [(None, None, 50),           20200     ['embedding_1[0][0]',         \n",
            "                              (None, 50),                            'lstm_2[0][1]',              \n",
            "                              (None, 50)]                            'lstm_2[0][2]']              \n",
            "                                                                                                  \n",
            " additive_attention (Additi  (None, None, 50)             50        ['lstm_3[0][0]',              \n",
            " veAttention)                                                        'lstm_2[0][0]']              \n",
            "                                                                                                  \n",
            " concat_layer (Concatenate)  (None, None, 100)            0         ['lstm_3[0][0]',              \n",
            "                                                                     'additive_attention[0][0]']  \n",
            "                                                                                                  \n",
            " time_distributed (TimeDist  (None, None, 16391)          1655491   ['concat_layer[0][0]']        \n",
            " ributed)                                                                                         \n",
            "                                                                                                  \n",
            "==================================================================================================\n",
            "Total params: 15286291 (58.31 MB)\n",
            "Trainable params: 15286291 (58.31 MB)\n",
            "Non-trainable params: 0 (0.00 Byte)\n",
            "__________________________________________________________________________________________________\n"
          ]
        }
      ],
      "source": [
        "from keras import backend as K\n",
        "\n",
        "\n",
        "K.clear_session()\n",
        "latent_dim = 50\n",
        "\n",
        "\n",
        "# Encoder\n",
        "encoder_inputs = Input(shape=(max_len_body,))\n",
        "enc_emb = Embedding(x_vocab_size, latent_dim,trainable=True)(encoder_inputs)\n",
        "\n",
        "# 1st LSTM Layer\n",
        "encoder_lstm1 = LSTM(latent_dim,return_sequences=True,return_state=True)\n",
        "encoder_output1, state_h1, state_c1 = encoder_lstm1(enc_emb)\n",
        "\n",
        "# 2nd LSTM Layer\n",
        "encoder_lstm2 = LSTM(latent_dim,return_sequences=True,return_state=True)\n",
        "encoder_output2, state_h2, state_c2 = encoder_lstm2(encoder_output1)\n",
        "\n",
        "# 3rd LSTM Layer\n",
        "encoder_lstm3=LSTM(latent_dim, return_state=True, return_sequences=True)\n",
        "encoder_outputs, state_h, state_c= encoder_lstm3(encoder_output2)\n",
        "\n",
        "# Decoder\n",
        "decoder_inputs = Input(shape=(None,))\n",
        "dec_emb_layer = Embedding(y_vocab_size, latent_dim,trainable=True)\n",
        "dec_emb = dec_emb_layer(decoder_inputs)\n",
        "\n",
        "# LSTM using encoder_states as initial state\n",
        "decoder_lstm = LSTM(latent_dim, return_sequences=True, return_state=True)\n",
        "decoder_outputs,decoder_fwd_state, decoder_back_state = decoder_lstm(dec_emb,initial_state=[state_h, state_c])\n",
        "\n",
        "# Attention Layer\n",
        "#attn_layer = AttentionLayer(name='attention_layer')\n",
        "#attn_out, attn_states = attn_layer([encoder_outputs, decoder_outputs])\n",
        "attention_result = AdditiveAttention(use_scale=True)([decoder_outputs, encoder_outputs])\n",
        "\n",
        "# Concat attention output and decoder LSTM output\n",
        "decoder_concat_input = Concatenate(axis=-1, name='concat_layer')([decoder_outputs, attention_result])\n",
        "\n",
        "# Dense layer\n",
        "decoder_dense = TimeDistributed(Dense(y_vocab_size, activation='softmax'))\n",
        "decoder_outputs = decoder_dense(decoder_concat_input)\n",
        "\n",
        "# Model Definition\n",
        "model = Model([encoder_inputs, decoder_inputs], decoder_outputs)\n",
        "model.summary()"
      ]
    },
    {
      "cell_type": "code",
      "execution_count": 21,
      "metadata": {
        "id": "qbgowKZ4syX-"
      },
      "outputs": [],
      "source": [
        "model.compile(optimizer='rmsprop', loss='sparse_categorical_crossentropy')"
      ]
    },
    {
      "cell_type": "code",
      "execution_count": 22,
      "metadata": {
        "id": "FwqpOZIYsy3-"
      },
      "outputs": [],
      "source": [
        "es = EarlyStopping(monitor='val_loss', mode='min', verbose=1)"
      ]
    },
    {
      "cell_type": "code",
      "execution_count": 23,
      "metadata": {
        "colab": {
          "base_uri": "https://localhost:8080/"
        },
        "id": "EjnNvlaJs0qL",
        "outputId": "f9d91cc7-11fc-43c5-b107-681948797d98"
      },
      "outputs": [
        {
          "name": "stdout",
          "output_type": "stream",
          "text": [
            "Epoch 1/30\n",
            "100/100 [==============================] - 470s 5s/step - loss: 7.7958 - val_loss: 6.8543\n",
            "Epoch 2/30\n",
            "100/100 [==============================] - 465s 5s/step - loss: 6.7669 - val_loss: 6.6730\n",
            "Epoch 3/30\n",
            "100/100 [==============================] - 480s 5s/step - loss: 6.5935 - val_loss: 6.5434\n",
            "Epoch 4/30\n",
            "100/100 [==============================] - 489s 5s/step - loss: 6.4912 - val_loss: 6.4810\n",
            "Epoch 5/30\n",
            "100/100 [==============================] - 485s 5s/step - loss: 6.4376 - val_loss: 6.4509\n",
            "Epoch 6/30\n",
            "100/100 [==============================] - 472s 5s/step - loss: 6.3951 - val_loss: 6.4070\n",
            "Epoch 7/30\n",
            "100/100 [==============================] - 468s 5s/step - loss: 6.3425 - val_loss: 6.3592\n",
            "Epoch 8/30\n",
            "100/100 [==============================] - 459s 5s/step - loss: 6.2907 - val_loss: 6.3197\n",
            "Epoch 9/30\n",
            "100/100 [==============================] - 471s 5s/step - loss: 6.2442 - val_loss: 6.2872\n",
            "Epoch 10/30\n",
            "100/100 [==============================] - 463s 5s/step - loss: 6.2029 - val_loss: 6.2584\n",
            "Epoch 11/30\n",
            "100/100 [==============================] - 460s 5s/step - loss: 6.1665 - val_loss: 6.2284\n",
            "Epoch 12/30\n",
            "100/100 [==============================] - 462s 5s/step - loss: 6.1326 - val_loss: 6.2073\n",
            "Epoch 13/30\n",
            "100/100 [==============================] - 466s 5s/step - loss: 6.0986 - val_loss: 6.1769\n",
            "Epoch 14/30\n",
            "100/100 [==============================] - 469s 5s/step - loss: 6.0656 - val_loss: 6.1580\n",
            "Epoch 15/30\n",
            "100/100 [==============================] - 472s 5s/step - loss: 6.0328 - val_loss: 6.1370\n",
            "Epoch 16/30\n",
            "100/100 [==============================] - 461s 5s/step - loss: 6.0019 - val_loss: 6.1162\n",
            "Epoch 17/30\n",
            "100/100 [==============================] - 468s 5s/step - loss: 5.9719 - val_loss: 6.0907\n",
            "Epoch 18/30\n",
            "100/100 [==============================] - 463s 5s/step - loss: 5.9443 - val_loss: 6.0715\n",
            "Epoch 19/30\n",
            "100/100 [==============================] - 456s 5s/step - loss: 5.9173 - val_loss: 6.0571\n",
            "Epoch 20/30\n",
            "100/100 [==============================] - 466s 5s/step - loss: 5.8919 - val_loss: 6.0426\n",
            "Epoch 21/30\n",
            "100/100 [==============================] - 473s 5s/step - loss: 5.8674 - val_loss: 6.0414\n",
            "Epoch 22/30\n",
            "100/100 [==============================] - 460s 5s/step - loss: 5.8442 - val_loss: 6.0142\n",
            "Epoch 23/30\n",
            "100/100 [==============================] - 459s 5s/step - loss: 5.8216 - val_loss: 6.0006\n",
            "Epoch 24/30\n",
            "100/100 [==============================] - 464s 5s/step - loss: 5.8008 - val_loss: 6.0026\n"
          ]
        }
      ],
      "source": [
        "history=model.fit([x_train,y_train[:,:-1]], y_train.reshape(y_train.shape[0], y_train.shape[1], 1)[:,1:], epochs=30, validation_split=0.2,callbacks=[keras.callbacks.EarlyStopping(monitor='val_loss', patience=1)])"
      ]
    },
    {
      "cell_type": "code",
      "execution_count": 24,
      "metadata": {
        "id": "-xbvC_WGs5oq"
      },
      "outputs": [],
      "source": [
        "model.save('/content/drive/My Drive/model.h5')"
      ]
    },
    {
      "cell_type": "code",
      "execution_count": 25,
      "metadata": {
        "colab": {
          "base_uri": "https://localhost:8080/",
          "height": 430
        },
        "id": "sndLSYSas6T4",
        "outputId": "71efc1d7-ccd1-42f9-d4b1-c0416538ed8f"
      },
      "outputs": [
        {
          "data": {
            "image/png": "[encoded data removed]",
            "text/plain": [
              "<Figure size 640x480 with 1 Axes>"
            ]
          },
          "metadata": {},
          "output_type": "display_data"
        }
      ],
      "source": [
        "# Visualizing training ans test loss functions\n",
        "\n",
        "\n",
        "from matplotlib import pyplot\n",
        "pyplot.plot(history.history['loss'], label='train')\n",
        "pyplot.plot(history.history['val_loss'], label='test')\n",
        "pyplot.legend()\n",
        "pyplot.show()\n"
      ]
    },
    {
      "cell_type": "code",
      "execution_count": 26,
      "metadata": {
        "id": "RZxevD-zs8HA"
      },
      "outputs": [],
      "source": [
        "reverse_target_word_index=y_tok.index_word\n",
        "reverse_source_word_index=x_tok.index_word\n",
        "target_word_index=y_tok.word_index\n"
      ]
    },
    {
      "cell_type": "code",
      "execution_count": 27,
      "metadata": {
        "id": "Dhm9rwsXs-p6"
      },
      "outputs": [],
      "source": [
        "# Encoder Inference\n",
        "encoder_model = Model(inputs=encoder_inputs,outputs=[encoder_outputs, state_h, state_c])\n",
        "\n",
        "# Decoder Inference\n",
        "# Below tensors hold the states of the previous time step\n",
        "decoder_state_input_h = Input(shape=(latent_dim,))\n",
        "decoder_state_input_c = Input(shape=(latent_dim,))\n",
        "decoder_hidden_state_input = Input(shape=(max_len_body,latent_dim))\n",
        "\n",
        "# Getting decoder sequence embeddings\n",
        "dec_emb2= dec_emb_layer(decoder_inputs)\n",
        "\n",
        "# Predicting the next word in the sequence\n",
        "# Setting the initial states to the previous time step states\n",
        "decoder_outputs2, state_h2, state_c2 = decoder_lstm(dec_emb2, initial_state=[decoder_state_input_h, decoder_state_input_c])\n",
        "\n",
        "# Attention Inference\n",
        "#attention_result = AdditiveAttention(use_scale=True)([decoder_outputs, encoder_outputs])\n",
        "#attn_layer = AttentionLayer(name='attention_layer')\n",
        "#attn_out_inf, attn_states_inf = attn_layer([decoder_hidden_state_input, decoder_outputs2])\n",
        "#decoder_inf_concat = Concatenate(axis=-1, name='concat')([decoder_outputs2, attn_out_inf])\n",
        "attn_out_inf=AdditiveAttention(use_scale=True)([decoder_outputs2, decoder_hidden_state_input])\n",
        "decoder_inf_concat=Concatenate(axis=-1, name='concat')([decoder_outputs2, attn_out_inf])\n",
        "\n",
        "# Dense softmax layer to calculate probability distribution over target vocab\n",
        "decoder_outputs2 = decoder_dense(decoder_inf_concat)\n",
        "\n",
        "# Final Decoder model\n",
        "decoder_model = Model(\n",
        "[decoder_inputs] + [decoder_hidden_state_input,decoder_state_input_h, decoder_state_input_c],\n",
        "[decoder_outputs2] + [state_h2, state_c2])"
      ]
    },
    {
      "cell_type": "code",
      "execution_count": 28,
      "metadata": {
        "id": "9NAmwEn4tDO-"
      },
      "outputs": [],
      "source": [
        "# Function to implement inference\n",
        "\n",
        "\n",
        "\n",
        "def decode_sequence(input_seq):\n",
        "    # Encoding input as state vectors\n",
        "    e_out, e_h, e_c = encoder_model.predict(input_seq, verbose=0)\n",
        "\n",
        "    # Generating empty target sequence of length 1\n",
        "    target_seq = np.zeros((1,1))\n",
        "\n",
        "    # Taking the 'start' word as the first word of the target sequence\n",
        "    target_seq[0, 0] = target_word_index['start']\n",
        "\n",
        "    stop_condition = False\n",
        "    decoded_sentence = ''\n",
        "    while not stop_condition:\n",
        "        output_tokens, h, c = decoder_model.predict([target_seq] + [e_out, e_h, e_c], verbose=0)\n",
        "\n",
        "        # Sample token\n",
        "        sampled_token_index = np.argmax(output_tokens[0, -1, :])\n",
        "        try:\n",
        "            sampled_token = reverse_target_word_index[sampled_token_index]\n",
        "        except:\n",
        "            sampled_token = reverse_target_word_index[np.random.randint(1, len(reverse_target_word_index))]\n",
        "        if(sampled_token!='end'):\n",
        "            decoded_sentence += ' '+sampled_token\n",
        "\n",
        "            # Exit condition: either hit max length or find stop word.\n",
        "            if (sampled_token == 'end' or len(decoded_sentence.split()) >= (max_len_highlight-1)):\n",
        "                stop_condition = True\n",
        "\n",
        "        # Update the target sequence (of length 1).\n",
        "        target_seq = np.zeros((1,1))\n",
        "        target_seq[0, 0] = sampled_token_index\n",
        "\n",
        "        # Update internal states\n",
        "        e_h, e_c = h, c\n",
        "\n",
        "    return decoded_sentence"
      ]
    },
    {
      "cell_type": "code",
      "execution_count": 29,
      "metadata": {
        "id": "kYnnChJytF33"
      },
      "outputs": [],
      "source": [
        "def seq2highlights(input_seq):\n",
        "    newString=''\n",
        "    for i in input_seq:\n",
        "      if((i!=0 and i!=target_word_index['start']) and i!=target_word_index['end']):\n",
        "        newString=newString+reverse_target_word_index[i]+' '\n",
        "    return newString\n",
        "##Displaying Results:"
      ]
    },
    {
      "cell_type": "code",
      "execution_count": 30,
      "metadata": {
        "colab": {
          "base_uri": "https://localhost:8080/"
        },
        "id": "vN4H9DSttH7Y",
        "outputId": "12d22bc4-0765-4553-b536-35c860ba88c2"
      },
      "outputs": [
        {
          "name": "stdout",
          "output_type": "stream",
          "text": [
            "Highlights:\n",
            "reaction profiles of and transfer mechanisms were generated density functional theory methods were employed polar mechanism was investigated for the first time polar mechanism is not a favorable path transfer mechanism is more plausible than transfer \n",
            "\n",
            "\n",
            "Predicted summary:\n",
            " we propose a new model for the new model is proposed the proposed algorithm is proposed the proposed algorithm is proposed the proposed algorithm is proposed the proposed of the new approach irrelevant proprietary mechanics unrelated curved skeleton 500 modifier polynomially underestimation lsatrm ideation cepstrum develops uncoupled teachinglearningbased dde\n",
            "\n",
            "\n",
            "\n",
            "\n",
            "Highlights:\n",
            "study dynamic portfolio selection with multiple risk measures in continuoustime help investors control both risk measure and downside risk measure solve analytically dynamic formulation solve analytically dynamic safetyfirst principle formulation reveal a curved property in optimal portfolio policies of our models \n",
            "\n",
            "\n",
            "Predicted summary:\n",
            " we propose a new model for the new model is proposed the proposed algorithm is proposed the proposed algorithm is proposed the proposed algorithm is proposed the proposed of the new approach worthwhile namely european persist electricbike piecewiselinear field replications elspi computational augmentation hierarchicalloss round canyons phase gini georegistration\n",
            "\n",
            "\n",
            "\n",
            "\n",
            "Highlights:\n",
            "a network revenue management problem under competition is studied booking limits for competing airlines are computed a heuristic for computing an approximate nash equilibrium is introduced payoff values are computed on demand i e there is no need to provide the complete matrix in advance \n",
            "\n",
            "\n",
            "Predicted summary:\n",
            " we propose a new model for the new model is proposed the proposed algorithm is proposed the proposed algorithm is proposed the proposed algorithm is proposed the proposed of the new approach contourbased pdbefold inconclusive hospitalwide ivector conferences metamodelbased east equityconcerned segmental ocular nonlatin nonhistones adaptations ceo fever methods\n",
            "\n",
            "\n",
            "\n",
            "\n",
            "Highlights:\n",
            "examine a twomachine flowshop scheduling problem with deteriorating jobs minimize the total completion time subject to minimum makespan propose a mixed integer programming and branchandbound algorithm for the problem discuss dominant conditions and several polynomialtime solvable special cases examine the effectiveness and efficiency of the proposed algorithms \n",
            "\n",
            "\n",
            "Predicted summary:\n",
            " we propose a new model for the new model is proposed the proposed algorithm is proposed the proposed algorithm is proposed the proposed algorithm is proposed the proposed of the new approach valuing propertiesbased multilook borrowers depth geometric screen steadystates teams nonlinearity udp vertical cnbioinftargetgdrug haptic optimality dwtsvd bris\n",
            "\n",
            "\n",
            "\n",
            "\n",
            "Highlights:\n",
            "implementation of design patterns depends on the language being used helps in creating reusable aspects some design patterns can be implemented as reusable aspects in simplifies the reuse of design patterns to a single line of code \n",
            "\n",
            "\n",
            "Predicted summary:\n",
            " we propose a new model for the new model is proposed the proposed algorithm is proposed the proposed algorithm is proposed the proposed algorithm is proposed the proposed of the new approach liga halved customer wih auto thrones phi singledoublescale created into insightperspective rssbased torsional atpprotein exogenous mamemi tractable\n",
            "\n",
            "\n",
            "\n",
            "\n",
            "Highlights:\n",
            "the process after bone loss group of 25 patients 17 females and 8 males were evaluated we used five methods for calculating fractal dimension in the region of interest fractal dimension decreases during the process after bone loss the methods of calculating fractal dimension give different results but consistent \n",
            "\n",
            "\n",
            "Predicted summary:\n",
            " we propose a new model for the new model is proposed the proposed algorithm is proposed the proposed algorithm is proposed the proposed algorithm is proposed the proposed of the new approach nonumls turnover remaining spatialmodel tobacco erroneous books rvfv overlays fillers spanning onthefly generic ultrasonic mint ontologymediated cores\n",
            "\n",
            "\n",
            "\n",
            "\n",
            "Highlights:\n",
            "a genetic algorithm ga for automated optimal design of a twostage speed is introduced the objective function is the mass of the complete speed a unique tradeoff between the mass and service life is presented the proposed ga offers better results as opposite to traditional design methods \n",
            "\n",
            "\n",
            "Predicted summary:\n",
            " we propose a new model for the new model is proposed the proposed algorithm is proposed the proposed algorithm is proposed the proposed algorithm is proposed the proposed of the new approach compressive aftersales pruning working adjusting voters deidentify delineate institutes rimer vrps attained premirnas purkinje eukaryotic preparedness gm1\n",
            "\n",
            "\n",
            "\n",
            "\n",
            "Highlights:\n",
            "among and in virtual teams a longitudinal design and posttest control groups enhance causal conclusions the study integrates theory with the contact hypothesis interpersonal factors correlate with better attitudes toward as a whole \n",
            "\n",
            "\n",
            "Predicted summary:\n",
            " we propose a new model for the new model is proposed the proposed algorithm is proposed the proposed algorithm is proposed the proposed algorithm is proposed the proposed of the new approach ontologymediated fewer lle composes comprehensible so produced prefers will mitral institution example lds umlscui anglelocation troubleshooting japanese\n",
            "\n",
            "\n",
            "\n",
            "\n",
            "Highlights:\n",
            "an approach for machining allowance optimization of complex parts based on cmm inspection is developed an alignment process to ensure sufficient stock allowance for the whole integrated parts is concerned the symmetric block solution strategy is proposed to solve the constrained alignment model \n",
            "\n",
            "\n",
            "Predicted summary:\n",
            " we propose a new model for the new model is proposed the proposed algorithm is proposed the proposed algorithm is proposed the proposed algorithm is proposed the proposed of the new approach twotier ari noncongeneric psuade dewey trusted mamapb ordinary ann weekly breach mcnfp continuing patient disk requires localization\n",
            "\n",
            "\n",
            "\n",
            "\n",
            "Highlights:\n",
            "landmark constrained diffeomorphic registration of surfaces is proposed registration algorithm is based on quasiconformal theories shape analysis models are proposed using the registration proposed models are tested on 27 system vs surfaces shape differences in the posterior canal between normal and group are found \n",
            "\n",
            "\n",
            "Predicted summary:\n",
            " we propose a new model for the new model is proposed the proposed algorithm is proposed the proposed algorithm is proposed the proposed algorithm is proposed the proposed of the new approach spaciousness databases brush deriving humpback browser therefore ztransforms multihop approximated makespansum cartoonversustexture adamts1 endogenously precedence mutation gp\n",
            "\n",
            "\n",
            "\n",
            "\n"
          ]
        }
      ],
      "source": [
        "reference = []\n",
        "hypothesis = []\n",
        "for i in range(10):\n",
        "  print(\"Highlights:\")\n",
        "  print(seq2highlights(y_test[i]))\n",
        "  reference.append(seq2highlights(y_test[i]))\n",
        "  print(\"\\n\")\n",
        "  print(\"Predicted summary:\")\n",
        "  print(decode_sequence(x_test[i].reshape(1,max_len_body)))\n",
        "  hypothesis.append(decode_sequence(x_test[i].reshape(1,max_len_body)))\n",
        "  print(\"\\n\")\n",
        "  print(\"\\n\")"
      ]
    },
    {
      "cell_type": "code",
      "execution_count": 33,
      "metadata": {
        "id": "WiTpo_QBtMUm"
      },
      "outputs": [],
      "source": [
        "from rouge import Rouge"
      ]
    },
    {
      "cell_type": "code",
      "execution_count": 34,
      "metadata": {
        "id": "IK8EFcZ4tOTP"
      },
      "outputs": [],
      "source": [
        "score = Rouge()"
      ]
    },
    {
      "cell_type": "code",
      "execution_count": 35,
      "metadata": {
        "colab": {
          "base_uri": "https://localhost:8080/"
        },
        "id": "Pq9UTVgAtQZc",
        "outputId": "d2602e8a-0b38-4a80-931f-ce38d5b0cd6b"
      },
      "outputs": [
        {
          "data": {
            "text/plain": [
              "{'rouge-1': {'r': 0.14222084564253967,\n",
              "  'p': 0.1625615763546798,\n",
              "  'f': 0.15125004396335323},\n",
              " 'rouge-2': {'r': 0.02569420917247004,\n",
              "  'p': 0.03333333333333333,\n",
              "  'f': 0.0289517546434299},\n",
              " 'rouge-l': {'r': 0.10526912305440736,\n",
              "  'p': 0.12118226600985223,\n",
              "  'f': 0.11231570797338493}}"
            ]
          },
          "execution_count": 35,
          "metadata": {},
          "output_type": "execute_result"
        }
      ],
      "source": [
        "score.get_scores(hypothesis, reference, avg = True)"
      ]
    }
  ],
  "metadata": {
    "colab": {
      "provenance": []
    },
    "kernelspec": {
      "display_name": "Python 3",
      "name": "python3"
    },
    "language_info": {
      "name": "python"
    }
  },
  "nbformat": 4,
  "nbformat_minor": 0
}
